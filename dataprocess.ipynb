{
 "cells": [
  {
   "cell_type": "code",
   "execution_count": 1,
   "metadata": {},
   "outputs": [],
   "source": [
    "%load_ext autoreload\n",
    "%autoreload 2"
   ]
  },
  {
   "cell_type": "code",
   "execution_count": 2,
   "metadata": {},
   "outputs": [],
   "source": [
    "import json\n",
    "import os\n",
    "import numpy as np"
   ]
  },
  {
   "cell_type": "code",
   "execution_count": 3,
   "metadata": {},
   "outputs": [],
   "source": [
    "data_path='c:/dataset/GOPRO_Large/test/'\n",
    "folder=os.listdir(data_path)"
   ]
  },
  {
   "cell_type": "code",
   "execution_count": 4,
   "metadata": {},
   "outputs": [
    {
     "data": {
      "text/plain": [
       "['GOPR0384_11_00',\n",
       " 'GOPR0384_11_05',\n",
       " 'GOPR0385_11_01',\n",
       " 'GOPR0396_11_00',\n",
       " 'GOPR0410_11_00',\n",
       " 'GOPR0854_11_00',\n",
       " 'GOPR0862_11_00',\n",
       " 'GOPR0868_11_00',\n",
       " 'GOPR0869_11_00',\n",
       " 'GOPR0871_11_00',\n",
       " 'GOPR0881_11_01']"
      ]
     },
     "execution_count": 4,
     "metadata": {},
     "output_type": "execute_result"
    }
   ],
   "source": [
    "folder"
   ]
  },
  {
   "cell_type": "code",
   "execution_count": 5,
   "metadata": {},
   "outputs": [
    {
     "name": "stdout",
     "output_type": "stream",
     "text": [
      "1111\n"
     ]
    }
   ],
   "source": [
    "sum=0\n",
    "for fol in folder:\n",
    "    blur_img_data_path=data_path+fol+'/blur'\n",
    "    sum+=len(os.listdir(blur_img_data_path))\n",
    "\n",
    "print(sum)"
   ]
  },
  {
   "cell_type": "code",
   "execution_count": 6,
   "metadata": {},
   "outputs": [],
   "source": [
    "test_blur_img=[]\n",
    "test_sharp_img=[]\n",
    "\n",
    "for fol in folder:\n",
    "    blur_img_data_path=data_path+fol+'/blur'\n",
    "    sharp_img_data_path=data_path+fol+'/sharp'\n",
    "\n",
    "    for blur_img in os.listdir(blur_img_data_path):\n",
    "        img_path=blur_img_data_path+'/' + blur_img\n",
    "        test_blur_img.append(img_path)\n",
    "\n",
    "    for sharp_img in os.listdir(sharp_img_data_path):\n",
    "        img_path=sharp_img_data_path+'/'+sharp_img\n",
    "        test_sharp_img.append(img_path)\n"
   ]
  },
  {
   "cell_type": "code",
   "execution_count": 10,
   "metadata": {},
   "outputs": [
    {
     "name": "stdout",
     "output_type": "stream",
     "text": [
      "1111 1111\n"
     ]
    }
   ],
   "source": [
    "print(len(test_sharp_img),\n",
    "len(test_blur_img))"
   ]
  },
  {
   "cell_type": "code",
   "execution_count": 11,
   "metadata": {},
   "outputs": [],
   "source": [
    "\n",
    "class NpEncoder(json.JSONEncoder):\n",
    "    def default(self, obj):\n",
    "        if isinstance(obj, np.integer):\n",
    "            return int(obj)\n",
    "        elif isinstance(obj, np.floating):\n",
    "            return float(obj)\n",
    "        elif isinstance(obj, np.ndarray):\n",
    "            return obj.tolist()\n",
    "        else:\n",
    "            return super(NpEncoder, self).default(obj)\n"
   ]
  },
  {
   "cell_type": "code",
   "execution_count": 12,
   "metadata": {},
   "outputs": [],
   "source": [
    "f=open('json/test_blur.json','w')\n",
    "l=[]\n",
    "for i in range(len(test_blur_img)):\n",
    "    d={'img':test_blur_img[i]}\n",
    "    l.append(d)\n",
    "\n",
    "json.dump(l,f,indent='\\t',cls=NpEncoder)\n",
    "\n",
    "f=open('json/test_sharp.json','w')\n",
    "l=[]\n",
    "for i in range(len(test_sharp_img)):\n",
    "    d={'img':test_sharp_img[i]}\n",
    "    l.append(d)\n",
    "\n",
    "json.dump(l,f,indent='\\t',cls=NpEncoder)\n",
    "f.close()\n",
    "\n",
    "\n"
   ]
  },
  {
   "cell_type": "code",
   "execution_count": 5,
   "metadata": {},
   "outputs": [],
   "source": [
    "train_blur_img=[]\n",
    "val_blur_img=[]\n",
    "\n",
    "train_sharp_img=[]\n",
    "val_sharp_img=[]\n",
    "b_count=1\n",
    "s_count=1\n",
    "for fol in folder:\n",
    "    blur_img_data_path=data_path+fol+'/blur'\n",
    "    sharp_img_data_path=data_path+fol+'/sharp'\n",
    "\n",
    "    for blur_img in os.listdir(blur_img_data_path):\n",
    "        img_path=blur_img_data_path+'/'+blur_img\n",
    "        \n",
    "\n",
    "        if b_count%10==0:\n",
    "            val_blur_img.append(img_path)\n",
    "        else:\n",
    "            train_blur_img.append(img_path)\n",
    "\n",
    "        b_count+=1\n",
    "\n",
    "    for sharp_img in os.listdir(sharp_img_data_path):\n",
    "        img_path=sharp_img_data_path + '/' + sharp_img\n",
    "        \n",
    "\n",
    "        if s_count%10==0:\n",
    "            val_sharp_img.append(img_path)\n",
    "        else:\n",
    "            train_sharp_img.append(img_path)\n",
    "\n",
    "        s_count+=1\n",
    "\n",
    "        "
   ]
  },
  {
   "cell_type": "code",
   "execution_count": 6,
   "metadata": {},
   "outputs": [
    {
     "data": {
      "text/plain": [
       "1893"
      ]
     },
     "execution_count": 6,
     "metadata": {},
     "output_type": "execute_result"
    }
   ],
   "source": [
    "len(train_blur_img)"
   ]
  },
  {
   "cell_type": "code",
   "execution_count": 7,
   "metadata": {},
   "outputs": [
    {
     "data": {
      "text/plain": [
       "210"
      ]
     },
     "execution_count": 7,
     "metadata": {},
     "output_type": "execute_result"
    }
   ],
   "source": [
    "len(val_blur_img)"
   ]
  },
  {
   "cell_type": "code",
   "execution_count": 9,
   "metadata": {},
   "outputs": [],
   "source": [
    "\n",
    "class NpEncoder(json.JSONEncoder):\n",
    "    def default(self, obj):\n",
    "        if isinstance(obj, np.integer):\n",
    "            return int(obj)\n",
    "        elif isinstance(obj, np.floating):\n",
    "            return float(obj)\n",
    "        elif isinstance(obj, np.ndarray):\n",
    "            return obj.tolist()\n",
    "        else:\n",
    "            return super(NpEncoder, self).default(obj)\n"
   ]
  },
  {
   "cell_type": "code",
   "execution_count": 10,
   "metadata": {},
   "outputs": [],
   "source": [
    "f=open('json/train_blur.json','w')\n",
    "l=[]\n",
    "for i in range(len(train_blur_img)):\n",
    "    d={'img':train_blur_img[i]}\n",
    "    l.append(d)\n",
    "\n",
    "json.dump(l,f,indent='\\t',cls=NpEncoder)\n",
    "\n",
    "f=open('json/val_blur.json','w')\n",
    "l=[]\n",
    "for i in range(len(val_blur_img)):\n",
    "    d={'img':val_blur_img[i]}\n",
    "    l.append(d)\n",
    "\n",
    "json.dump(l,f,indent='\\t',cls=NpEncoder)\n",
    "\n",
    "\n"
   ]
  },
  {
   "cell_type": "code",
   "execution_count": 11,
   "metadata": {},
   "outputs": [],
   "source": [
    "f=open('json/train_sharp.json','w')\n",
    "l=[]\n",
    "for i in range(len(train_sharp_img)):\n",
    "    d={'img':train_sharp_img[i]}\n",
    "    l.append(d)\n",
    "\n",
    "json.dump(l,f,indent='\\t',cls=NpEncoder)\n",
    "\n",
    "f=open('json/val_sharp.json','w')\n",
    "l=[]\n",
    "for i in range(len(val_sharp_img)):\n",
    "    d={'img':val_sharp_img[i]}\n",
    "    l.append(d)\n",
    "\n",
    "json.dump(l,f,indent='\\t',cls=NpEncoder)\n"
   ]
  },
  {
   "cell_type": "code",
   "execution_count": 51,
   "metadata": {},
   "outputs": [],
   "source": [
    "from data import dataset\n",
    "import data\n",
    "\n",
    "t=dataset.train_dataset()"
   ]
  },
  {
   "cell_type": "code",
   "execution_count": 52,
   "metadata": {},
   "outputs": [
    {
     "data": {
      "text/plain": [
       "<data.dataset.train_dataset at 0x27af5d20688>"
      ]
     },
     "execution_count": 52,
     "metadata": {},
     "output_type": "execute_result"
    }
   ],
   "source": [
    "t"
   ]
  },
  {
   "cell_type": "code",
   "execution_count": 53,
   "metadata": {},
   "outputs": [
    {
     "name": "stdout",
     "output_type": "stream",
     "text": [
      "torch.Size([3, 512, 512])\n",
      "torch.Size([3, 256, 256])\n",
      "torch.Size([3, 128, 128])\n",
      "torch.Size([3, 512, 512])\n",
      "torch.Size([3, 256, 256])\n",
      "torch.Size([3, 128, 128])\n"
     ]
    },
    {
     "data": {
      "text/plain": [
       "(array([[[112, 111, 118],\n",
       "         [114, 113, 120],\n",
       "         [114, 113, 120],\n",
       "         ...,\n",
       "         [207, 232, 253],\n",
       "         [207, 232, 253],\n",
       "         [207, 232, 253]],\n",
       " \n",
       "        [[114, 113, 120],\n",
       "         [115, 114, 121],\n",
       "         [116, 115, 122],\n",
       "         ...,\n",
       "         [207, 232, 253],\n",
       "         [207, 232, 253],\n",
       "         [207, 232, 253]],\n",
       " \n",
       "        [[117, 116, 123],\n",
       "         [117, 116, 123],\n",
       "         [118, 117, 124],\n",
       "         ...,\n",
       "         [207, 232, 253],\n",
       "         [207, 232, 253],\n",
       "         [207, 232, 253]],\n",
       " \n",
       "        ...,\n",
       " \n",
       "        [[ 64,  63,  72],\n",
       "         [ 64,  63,  72],\n",
       "         [ 64,  63,  73],\n",
       "         ...,\n",
       "         [ 53,  53,  54],\n",
       "         [ 54,  54,  55],\n",
       "         [ 54,  53,  54]],\n",
       " \n",
       "        [[ 64,  63,  72],\n",
       "         [ 64,  63,  72],\n",
       "         [ 64,  63,  72],\n",
       "         ...,\n",
       "         [ 54,  54,  55],\n",
       "         [ 54,  54,  55],\n",
       "         [ 55,  55,  56]],\n",
       " \n",
       "        [[ 64,  63,  72],\n",
       "         [ 64,  63,  72],\n",
       "         [ 64,  63,  72],\n",
       "         ...,\n",
       "         [ 54,  54,  55],\n",
       "         [ 56,  55,  56],\n",
       "         [ 57,  56,  57]]], dtype=uint8),\n",
       " array([[[121, 120, 127],\n",
       "         [119, 118, 125],\n",
       "         [113, 112, 119],\n",
       "         ...,\n",
       "         [207, 232, 251],\n",
       "         [207, 232, 251],\n",
       "         [207, 232, 251]],\n",
       " \n",
       "        [[121, 120, 127],\n",
       "         [119, 118, 125],\n",
       "         [115, 115, 122],\n",
       "         ...,\n",
       "         [207, 232, 251],\n",
       "         [207, 232, 251],\n",
       "         [207, 232, 251]],\n",
       " \n",
       "        [[119, 118, 125],\n",
       "         [116, 116, 123],\n",
       "         [119, 118, 125],\n",
       "         ...,\n",
       "         [207, 232, 251],\n",
       "         [207, 232, 251],\n",
       "         [207, 232, 251]],\n",
       " \n",
       "        ...,\n",
       " \n",
       "        [[ 63,  62,  71],\n",
       "         [ 64,  63,  72],\n",
       "         [ 64,  63,  72],\n",
       "         ...,\n",
       "         [ 62,  62,  62],\n",
       "         [ 62,  62,  62],\n",
       "         [ 62,  62,  62]],\n",
       " \n",
       "        [[ 63,  62,  71],\n",
       "         [ 64,  63,  72],\n",
       "         [ 64,  63,  72],\n",
       "         ...,\n",
       "         [ 62,  62,  62],\n",
       "         [ 62,  62,  62],\n",
       "         [ 62,  62,  62]],\n",
       " \n",
       "        [[ 63,  62,  71],\n",
       "         [ 64,  63,  72],\n",
       "         [ 64,  63,  72],\n",
       "         ...,\n",
       "         [ 62,  62,  62],\n",
       "         [ 62,  62,  62],\n",
       "         [ 62,  62,  62]]], dtype=uint8))"
      ]
     },
     "execution_count": 53,
     "metadata": {},
     "output_type": "execute_result"
    }
   ],
   "source": [
    "t[0]"
   ]
  },
  {
   "cell_type": "code",
   "execution_count": null,
   "metadata": {},
   "outputs": [],
   "source": [
    "inputs, target = data.common.to(\n",
    "                batch[0], batch[1], device=device, dtype=torch.float32)"
   ]
  }
 ],
 "metadata": {
  "kernelspec": {
   "display_name": "joowan",
   "language": "python",
   "name": "python3"
  },
  "language_info": {
   "codemirror_mode": {
    "name": "ipython",
    "version": 3
   },
   "file_extension": ".py",
   "mimetype": "text/x-python",
   "name": "python",
   "nbconvert_exporter": "python",
   "pygments_lexer": "ipython3",
   "version": "3.7.15"
  },
  "orig_nbformat": 4,
  "vscode": {
   "interpreter": {
    "hash": "3b94245a966602fa1d3337cb3b1178b7109c129cd4eabde98685205c86aedb4a"
   }
  }
 },
 "nbformat": 4,
 "nbformat_minor": 2
}
